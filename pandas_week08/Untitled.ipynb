{
 "cells": [
  {
   "cell_type": "code",
   "execution_count": null,
   "metadata": {},
   "outputs": [],
   "source": [
    "df_raw = pd.read_csv(\"fsnd_zb_data.tsv\", encoding='utf8', sep='\\t',\n",
    "                    keep_default_na=False, na_values = 'na_rep',\n",
    "                    index_col = [0,1,2] )\n",
    "df_m = pd.read_csv(\"fsnd_zb_meta.tsv\", encoding='utf8', sep='\\t',)\n",
    "df_r = pd.read_csv(\"reg_treeId_level2.tsv\", encoding='utf8', sep='\\t')\n",
    "display(df_raw)"
   ]
  }
 ],
 "metadata": {
  "kernelspec": {
   "display_name": "Python 3",
   "language": "python",
   "name": "python3"
  },
  "language_info": {
   "codemirror_mode": {
    "name": "ipython",
    "version": 3
   },
   "file_extension": ".py",
   "mimetype": "text/x-python",
   "name": "python",
   "nbconvert_exporter": "python",
   "pygments_lexer": "ipython3",
   "version": "3.7.3"
  },
  "toc": {
   "base_numbering": 1,
   "nav_menu": {},
   "number_sections": true,
   "sideBar": true,
   "skip_h1_title": false,
   "title_cell": "Table of Contents",
   "title_sidebar": "Contents",
   "toc_cell": false,
   "toc_position": {},
   "toc_section_display": true,
   "toc_window_display": false
  }
 },
 "nbformat": 4,
 "nbformat_minor": 4
}
