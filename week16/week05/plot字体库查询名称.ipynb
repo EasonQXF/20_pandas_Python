{
 "cells": [
  {
   "cell_type": "code",
   "execution_count": 1,
   "metadata": {},
   "outputs": [],
   "source": [
    "    from pylab import mpl"
   ]
  },
  {
   "cell_type": "code",
   "execution_count": 27,
   "metadata": {},
   "outputs": [
    {
     "data": {
      "text/plain": [
       "207"
      ]
     },
     "execution_count": 27,
     "metadata": {},
     "output_type": "execute_result"
    }
   ],
   "source": [
    "font_list = mpl.font_manager.fontManager.ttflist\n",
    "len(font_list)"
   ]
  },
  {
   "cell_type": "code",
   "execution_count": 33,
   "metadata": {},
   "outputs": [],
   "source": [
    "from matplotlib.font_manager import _rebuild\n",
    "_rebuild()  "
   ]
  },
  {
   "cell_type": "code",
   "execution_count": 34,
   "metadata": {},
   "outputs": [],
   "source": [
    "_rebuild()"
   ]
  },
  {
   "cell_type": "code",
   "execution_count": 35,
   "metadata": {},
   "outputs": [
    {
     "data": {
      "text/plain": [
       "209"
      ]
     },
     "execution_count": 35,
     "metadata": {},
     "output_type": "execute_result"
    }
   ],
   "source": [
    "font_list = mpl.font_manager.fontManager.ttflist\n",
    "len(font_list)"
   ]
  },
  {
   "cell_type": "code",
   "execution_count": 39,
   "metadata": {},
   "outputs": [
    {
     "name": "stdout",
     "output_type": "stream",
     "text": [
      "<Font 'Bodoni 72 Smallcaps' (Bodoni 72 Smallcaps Book.ttf) normal normal book normal>\n",
      "<Font 'Courier New' (Courier New Italic.ttf) italic normal 400 normal>\n",
      "<Font 'Wingdings 3' (Wingdings 3.ttf) normal normal 400 normal>\n",
      "<Font 'Big Caslon' (BigCaslon.ttf) normal normal medium normal>\n",
      "<Font 'cmb10' (cmb10.ttf) normal normal 400 normal>\n",
      "<Font 'Courier New' (Courier New Bold.ttf) normal normal bold normal>\n",
      "<Font 'STIXSizeTwoSym' (STIXSizTwoSymBol.ttf) normal normal bold normal>\n",
      "<Font 'STIXNonUnicode' (STIXNonUniBolIta.ttf) italic normal bold normal>\n",
      "<Font 'STIXSizeFiveSym' (STIXSizFiveSymReg.otf) normal normal regular normal>\n",
      "<Font 'cmsy10' (cmsy10.ttf) normal normal 400 normal>\n",
      "<Font 'Gurmukhi MT' (Gurmukhi.ttf) normal normal 400 normal>\n",
      "<Font 'STIXSizeFourSym' (STIXSizFourSymBol.ttf) normal normal bold normal>\n",
      "<Font 'Zapfino' (Zapfino.ttf) normal normal 400 normal>\n",
      "<Font 'Songti SC' (Songti.ttf) normal normal black normal>\n",
      "<Font 'Lao Sangam MN' (Lao Sangam MN.ttf) normal normal 400 normal>\n",
      "<Font 'Luminari' (Luminari.ttf) normal normal 400 normal>\n",
      "<Font 'Times New Roman' (Times New Roman Italic.ttf) italic normal roman normal>\n",
      "<Font 'DejaVu Serif' (DejaVuSerif-BoldItalic.ttf) italic normal bold normal>\n",
      "<Font 'STIXGeneral' (STIXGeneralItalic.ttf) italic normal 400 normal>\n",
      "<Font 'STIXGeneral' (STIXGeneralItalic.otf) italic normal 400 normal>\n",
      "<Font 'DejaVu Sans Mono' (DejaVuSansMono-Bold.ttf) normal normal bold normal>\n",
      "<Font 'Comic Sans MS' (Comic Sans MS Bold.ttf) normal normal bold normal>\n",
      "<Font 'Arial' (Arial Italic.ttf) italic normal 400 normal>\n",
      "<Font 'STIXSizeThreeSym' (STIXSizThreeSymReg.otf) normal normal regular normal>\n",
      "<Font 'STIXGeneral' (STIXGeneralBol.otf) normal normal bold normal>\n",
      "<Font 'STIXSizeThreeSym' (STIXSizThreeSymBol.otf) normal normal bold normal>\n",
      "<Font 'cmmi10' (cmmi10.ttf) normal normal 400 normal>\n",
      "<Font 'Trebuchet MS' (Trebuchet MS Italic.ttf) italic normal 400 normal>\n",
      "<Font 'STIXIntegralsSm' (STIXIntSmBol.otf) normal normal bold normal>\n",
      "<Font 'Webdings' (Webdings.ttf) normal normal 400 normal>\n",
      "<Font 'Microsoft Sans Serif' (Microsoft Sans Serif.ttf) normal normal 400 normal>\n",
      "<Font 'STIXSizeTwoSym' (STIXSizTwoSymReg.otf) normal normal regular normal>\n",
      "<Font 'Verdana' (Verdana Bold Italic.ttf) italic normal bold normal>\n",
      "<Font 'DejaVu Sans' (DejaVuSans-Bold.ttf) normal normal bold normal>\n",
      "<Font 'Apple Chancery' (Apple Chancery.ttf) normal normal 400 normal>\n",
      "<Font '?????' (JDJSZHONG.ttf) normal normal 400 normal>\n",
      "<Font 'Verdana' (Verdana Bold.ttf) normal normal bold normal>\n",
      "<Font 'DejaVu Sans' (DejaVuSans-Oblique.ttf) oblique normal 400 normal>\n",
      "<Font 'STIXIntegralsUp' (STIXIntUpReg.otf) normal normal regular normal>\n",
      "<Font 'Skia' (Skia.ttf) normal normal 400 normal>\n",
      "<Font 'Impact' (Impact.ttf) normal normal 400 normal>\n",
      "<Font 'STIXNonUnicode' (STIXNonUniIta.ttf) italic normal 400 normal>\n",
      "<Font 'DejaVu Sans Mono' (DejaVuSansMono-Oblique.ttf) oblique normal 400 normal>\n",
      "<Font 'STIXIntegralsUpSm' (STIXIntUpSmBol.otf) normal normal bold normal>\n",
      "<Font 'STIXSizeFourSym' (STIXSizFourSymReg.ttf) normal normal regular normal>\n",
      "<Font 'STIXIntegralsUp' (STIXIntUpBol.otf) normal normal bold normal>\n",
      "<Font 'STIXIntegralsUpD' (STIXIntUpDReg.otf) normal normal regular normal>\n",
      "<Font 'Wingdings' (Wingdings.ttf) normal normal 400 normal>\n",
      "<Font 'STIXNonUnicode' (STIXNonUni.otf) normal normal regular normal>\n",
      "<Font 'Courier New' (Courier New.ttf) normal normal 400 normal>\n",
      "<Font 'Ayuthaya' (Ayuthaya.ttf) normal normal 400 normal>\n",
      "<Font 'STIXSizeTwoSym' (STIXSizTwoSymReg.ttf) normal normal regular normal>\n",
      "<Font 'Bradley Hand' (Bradley Hand Bold.ttf) normal normal bold normal>\n",
      "<Font 'Silom' (Silom.ttf) normal normal 400 normal>\n",
      "<Font 'Farisi' (Farisi.ttf) normal normal regular normal>\n",
      "<Font 'Arial Narrow' (Arial Narrow Italic.ttf) italic normal 400 condensed>\n",
      "<Font 'Tahoma' (Tahoma Bold.ttf) normal normal 700 normal>\n",
      "<Font 'STIXIntegralsSm' (STIXIntSmReg.otf) normal normal regular normal>\n",
      "<Font 'Verdana' (Verdana Italic.ttf) italic normal 400 normal>\n",
      "<Font 'STIXGeneral' (STIXGeneralBol.ttf) normal normal bold normal>\n",
      "<Font 'DejaVu Sans Mono' (DejaVuSansMono.ttf) normal normal 400 normal>\n",
      "<Font 'Times New Roman' (Times New Roman Bold Italic.ttf) italic normal roman normal>\n",
      "<Font 'Trattatello' (Trattatello.ttf) normal normal 400 normal>\n",
      "<Font 'Georgia' (Georgia Bold.ttf) normal normal bold normal>\n",
      "<Font 'Georgia' (Georgia Bold Italic.ttf) italic normal bold normal>\n",
      "<Font 'Courier New' (Courier New Bold Italic.ttf) italic normal bold normal>\n",
      "<Font 'DejaVu Serif' (DejaVuSerif.ttf) normal normal 400 normal>\n",
      "<Font 'STIXSizeThreeSym' (STIXSizThreeSymBol.ttf) normal normal bold normal>\n",
      "<Font 'Georgia' (Georgia Italic.ttf) italic normal 400 normal>\n",
      "<Font 'STIXSizeOneSym' (STIXSizOneSymReg.otf) normal normal regular normal>\n",
      "<Font 'Andale Mono' (Andale Mono.ttf) normal normal 400 normal>\n",
      "<Font 'Arial Black' (Arial Black.ttf) normal normal black normal>\n",
      "<Font 'STIXIntegralsD' (STIXIntDBol.otf) normal normal bold normal>\n",
      "<Font 'STIXGeneral' (STIXGeneralBolIta.ttf) italic normal bold normal>\n",
      "<Font 'DejaVu Serif' (DejaVuSerif-Bold.ttf) normal normal bold normal>\n",
      "<Font 'STIXGeneral' (STIXGeneralBolIta.otf) italic normal bold normal>\n",
      "<Font 'Trebuchet MS' (Trebuchet MS.ttf) normal normal 400 normal>\n",
      "<Font 'DejaVu Serif Display' (DejaVuSerifDisplay.ttf) normal normal 400 normal>\n",
      "<Font 'STIXSizeFourSym' (STIXSizFourSymBol.otf) normal normal bold normal>\n",
      "<Font 'Trebuchet MS' (Trebuchet MS Bold Italic.ttf) italic normal bold normal>\n",
      "<Font 'Hoefler Text' (Hoefler Text Ornaments.ttf) normal normal 400 normal>\n",
      "<Font 'Times New Roman' (Times New Roman.ttf) normal normal roman normal>\n",
      "<Font 'STIXIntegralsUpD' (STIXIntUpDBol.otf) normal normal bold normal>\n",
      "<Font 'Trebuchet MS' (Trebuchet MS Bold.ttf) normal normal bold normal>\n",
      "<Font 'STIXSizeOneSym' (STIXSizOneSymBol.ttf) normal normal bold normal>\n",
      "<Font 'Comic Sans MS' (Comic Sans MS.ttf) normal normal 400 normal>\n",
      "<Font 'STIXNonUnicode' (STIXNonUniBolIta.otf) italic normal bold normal>\n",
      "<Font 'Brush Script MT' (Brush Script.ttf) italic normal 400 normal>\n",
      "<Font 'cmtt10' (cmtt10.ttf) normal normal 400 normal>\n",
      "<Font 'DejaVu Sans' (DejaVuSans.ttf) normal normal 400 normal>\n",
      "<Font 'DejaVu Sans Display' (DejaVuSansDisplay.ttf) normal normal 400 normal>\n",
      "<Font 'Krungthep' (Krungthep.ttf) normal normal 400 normal>\n",
      "<Font 'DejaVu Serif' (DejaVuSerif-Italic.ttf) italic normal 400 normal>\n",
      "<Font 'Wingdings 2' (Wingdings 2.ttf) normal normal 400 normal>\n",
      "<Font 'STIXIntegralsD' (STIXIntDReg.otf) normal normal regular normal>\n",
      "<Font 'DIN Alternate' (DIN Alternate Bold.ttf) normal normal bold normal>\n",
      "<Font 'STIXSizeOneSym' (STIXSizOneSymBol.otf) normal normal bold normal>\n",
      "<Font 'cmss10' (cmss10.ttf) normal normal 400 normal>\n",
      "<Font 'Herculanum' (Herculanum.ttf) normal normal 400 normal>\n",
      "<Font 'DejaVu Sans Mono' (DejaVuSansMono-BoldOblique.ttf) oblique normal bold normal>\n",
      "<Font 'Arial' (Arial Bold.ttf) normal normal bold normal>\n",
      "<Font 'Arial Narrow' (Arial Narrow Bold.ttf) normal normal bold condensed>\n",
      "<Font 'STIXNonUnicode' (STIXNonUniBol.ttf) normal normal bold normal>\n",
      "<Font 'STIXGeneral' (STIXGeneral.ttf) normal normal regular normal>\n",
      "<Font 'STIXNonUnicode' (STIXNonUni.ttf) normal normal regular normal>\n",
      "<Font 'Arial Unicode MS' (Arial Unicode.ttf) normal normal 400 normal>\n",
      "<Font 'cmr10' (cmr10.ttf) normal normal 400 normal>\n",
      "<Font 'cmex10' (cmex10.ttf) normal normal 400 normal>\n",
      "<Font 'AppleGothic' (AppleGothic.ttf) normal normal regular normal>\n",
      "<Font 'Mishafi Gold' (Mishafi Gold.ttf) normal normal regular normal>\n",
      "<Font 'Khmer Sangam MN' (Khmer Sangam MN.ttf) normal normal 400 normal>\n",
      "<Font 'STIXSizeOneSym' (STIXSizOneSymReg.ttf) normal normal regular normal>\n",
      "<Font 'Bodoni Ornaments' (Bodoni Ornaments.ttf) normal normal 400 normal>\n",
      "<Font 'STIXNonUnicode' (STIXNonUniIta.otf) italic normal 400 normal>\n",
      "<Font 'Diwan Thuluth' (Diwan Thuluth.ttf) normal normal regular normal>\n",
      "<Font 'STIXGeneral' (STIXGeneral.otf) normal normal regular normal>\n",
      "<Font 'STIXSizeThreeSym' (STIXSizThreeSymReg.ttf) normal normal regular normal>\n",
      "<Font 'DIN Condensed' (DIN Condensed Bold.ttf) normal normal bold condensed>\n",
      "<Font 'Arial' (Arial.ttf) normal normal 400 normal>\n",
      "<Font 'STIXVariants' (STIXVar.otf) normal normal regular normal>\n",
      "<Font 'AppleMyungjo' (AppleMyungjo.ttf) normal normal regular normal>\n",
      "<Font 'Arial Narrow' (Arial Narrow.ttf) normal normal 400 condensed>\n",
      "<Font 'Times New Roman' (Times New Roman Bold.ttf) normal normal roman normal>\n",
      "<Font 'Sathu' (Sathu.ttf) normal normal 400 normal>\n",
      "<Font 'Chalkduster' (Chalkduster.ttf) normal normal 400 normal>\n",
      "<Font 'Arial Rounded MT Bold' (Arial Rounded Bold.ttf) normal normal bold normal>\n",
      "<Font 'Tahoma' (Tahoma.ttf) normal normal 400 normal>\n",
      "<Font 'Plantagenet Cherokee' (PlantagenetCherokee.ttf) normal normal 400 normal>\n",
      "<Font 'Arial Narrow' (Arial Narrow Bold Italic.ttf) italic normal bold condensed>\n",
      "<Font 'STIXSizeTwoSym' (STIXSizTwoSymBol.otf) normal normal bold normal>\n",
      "<Font 'STIXVariants' (STIXVarBol.otf) normal normal bold normal>\n",
      "<Font 'Georgia' (Georgia.ttf) normal normal 400 normal>\n",
      "<Font 'DejaVu Sans' (DejaVuSans-BoldOblique.ttf) oblique normal bold normal>\n",
      "<Font 'STIXSizeFiveSym' (STIXSizFiveSymReg.ttf) normal normal regular normal>\n",
      "<Font 'STIXIntegralsUpSm' (STIXIntUpSmReg.otf) normal normal regular normal>\n",
      "<Font 'Mishafi' (Mishafi.ttf) normal normal regular normal>\n",
      "<Font 'STIXNonUnicode' (STIXNonUniBol.otf) normal normal bold normal>\n",
      "<Font 'Arial' (Arial Bold Italic.ttf) italic normal bold normal>\n",
      "<Font 'Verdana' (Verdana.ttf) normal normal 400 normal>\n",
      "<Font 'Kokonor' (Kokonor.ttf) normal normal regular normal>\n",
      "<Font 'STIXSizeFourSym' (STIXSizFourSymReg.otf) normal normal regular normal>\n",
      "<Font 'System Font' (SFNSDisplay-UltralightItalic.otf) normal normal 400 normal>\n",
      "<Font '.SF Compact Rounded' (SFCompactRounded-Bold.otf) normal normal 400 normal>\n",
      "<Font 'System Font' (SFNSDisplay-HeavyItalic.otf) normal normal 400 normal>\n",
      "<Font 'Apple Braille' (Apple Braille Pinpoint 8 Dot.ttf) normal normal 400 normal>\n",
      "<Font 'Apple Symbols' (Apple Symbols.ttf) normal normal 400 normal>\n",
      "<Font '.SF Compact Rounded' (SFCompactRounded-Light.otf) normal normal 400 normal>\n",
      "<Font 'Apple Braille' (Apple Braille Outline 6 Dot.ttf) normal normal 400 normal>\n",
      "<Font '.SF Compact Text' (SFCompactText-Heavy.otf) normal normal 400 normal>\n",
      "<Font 'System Font' (SFNSDisplay-LightItalic.otf) normal normal 400 normal>\n",
      "<Font '.SF NS Display Condensed' (SFNSDisplayCondensed-Bold.otf) normal normal 400 normal>\n",
      "<Font '.SF Compact Display' (SFCompactDisplay-Regular.otf) normal normal 400 normal>\n",
      "<Font 'Symbol' (Symbol.ttf) normal normal 400 normal>\n",
      "<Font 'System Font' (SFNSDisplay-BlackItalic.otf) normal normal 400 normal>\n",
      "<Font '.SF NS Text Condensed' (SFNSTextCondensed-Medium.otf) normal normal 400 normal>\n",
      "<Font '.SF NS Display Condensed' (SFNSDisplayCondensed-Black.otf) normal normal 400 normal>\n",
      "<Font '.SF Compact Text' (SFCompactText-Bold.otf) normal normal 400 normal>\n",
      "<Font '.SF Compact Rounded' (SFCompactRounded-Semibold.otf) normal normal 400 normal>\n",
      "<Font '.SF NS Text Condensed' (SFNSTextCondensed-Light.otf) normal normal 400 normal>\n",
      "<Font '.SF NS Display Condensed' (SFNSDisplayCondensed-Thin.otf) normal normal 400 normal>\n",
      "<Font 'System Font' (SFNSDisplay-SemiboldItalic.otf) normal normal 400 normal>\n",
      "<Font '.SF NS Display Condensed' (SFNSDisplayCondensed-Heavy.otf) normal normal 400 normal>\n",
      "<Font 'System Font' (SFNSDisplay-MediumItalic.otf) normal normal 400 normal>\n",
      "<Font '.SF Compact Rounded' (SFCompactRounded-Thin.otf) normal normal 400 normal>\n",
      "<Font 'System Font' (SFNSSymbols-Regular.otf) normal normal 400 normal>\n",
      "<Font '.SF Compact Text' (SFCompactText-SemiboldItalic.otf) normal normal 400 normal>\n",
      "<Font '.SF Compact Text' (SFCompactText-Regular.otf) normal normal 400 normal>\n",
      "<Font '.SF NS Display Condensed' (SFNSDisplayCondensed-Ultralight.otf) normal normal 400 normal>\n",
      "<Font 'System Font' (SFNSTextItalic.ttf) normal normal 400 normal>\n",
      "<Font '.SF Compact Display' (SFCompactDisplay-Thin.otf) normal normal 400 normal>\n",
      "<Font 'System Font' (SFNSDisplay-ThinItalic.otf) normal normal 400 normal>\n",
      "<Font 'Apple Braille' (Apple Braille Pinpoint 6 Dot.ttf) normal normal 400 normal>\n",
      "<Font '.SF Compact Display' (SFCompactDisplay-Medium.otf) normal normal 400 normal>\n",
      "<Font '.SF Compact Text' (SFCompactText-RegularItalic.otf) normal normal 400 normal>\n",
      "<Font 'Zapf Dingbats' (ZapfDingbats.ttf) normal normal 400 normal>\n",
      "<Font '.SF Compact Text' (SFCompactText-BoldItalic.otf) normal normal 400 normal>\n",
      "<Font '.SF Compact Text' (SFCompactText-HeavyItalic.otf) normal normal 400 normal>\n",
      "<Font '.SF Compact Text' (SFCompactText-Semibold.otf) normal normal 400 normal>\n",
      "<Font '.SF Compact Rounded' (SFCompactRounded-Heavy.otf) normal normal 400 normal>\n",
      "<Font '.SF Compact Rounded' (SFCompactRounded-Ultralight.otf) normal normal 400 normal>\n",
      "<Font 'System Font' (SFNSText.ttf) normal normal 400 normal>\n",
      "<Font '.SF Compact Rounded' (SFCompactRounded-Medium.otf) normal normal 400 normal>\n",
      "<Font '.SF NS Text Condensed' (SFNSTextCondensed-Semibold.otf) normal normal 400 normal>\n",
      "<Font '.SF NS Text Condensed' (SFNSTextCondensed-Bold.otf) normal normal 400 normal>\n",
      "<Font '.SF Compact Display' (SFCompactDisplay-Heavy.otf) normal normal 400 normal>\n",
      "<Font '.SF Compact Text' (SFCompactText-Light.otf) normal normal 400 normal>\n",
      "<Font '.SF Compact Display' (SFCompactDisplay-Black.otf) normal normal 400 normal>\n",
      "<Font '.SF Compact Display' (SFCompactDisplay-Semibold.otf) normal normal 400 normal>\n",
      "<Font '.SF Compact Display' (SFCompactDisplay-Ultralight.otf) normal normal 400 normal>\n",
      "<Font '.SF NS Text Condensed' (SFNSTextCondensed-Heavy.otf) normal normal 400 normal>\n",
      "<Font '.SF Compact Text' (SFCompactText-MediumItalic.otf) normal normal 400 normal>\n",
      "<Font '.SF Compact Text' (SFCompactText-Medium.otf) normal normal 400 normal>\n",
      "<Font '.SF NS Display Condensed' (SFNSDisplayCondensed-Light.otf) normal normal 400 normal>\n",
      "<Font '.SF NS Display Condensed' (SFNSDisplayCondensed-Semibold.otf) normal normal 400 normal>\n",
      "<Font 'Apple Braille' (Apple Braille Outline 8 Dot.ttf) normal normal 400 normal>\n",
      "<Font 'System Font' (SFNSDisplay-BoldItalic.otf) normal normal 400 normal>\n",
      "<Font 'System Font' (SFNSDisplay-RegularItalic.otf) normal normal 400 normal>\n",
      "<Font '.SF Compact Rounded' (SFCompactRounded-Black.otf) normal normal 400 normal>\n",
      "<Font '.SF Compact Rounded' (SFCompactRounded-Regular.otf) normal normal 400 normal>\n",
      "<Font 'System Font' (SFNSDisplay.ttf) normal normal 400 normal>\n",
      "<Font '.Keyboard' (Keyboard.ttf) normal normal 400 normal>\n",
      "<Font '.SF NS Display Condensed' (SFNSDisplayCondensed-Medium.otf) normal normal 400 normal>\n",
      "<Font '.SF NS Text Condensed' (SFNSTextCondensed-Regular.otf) normal normal 400 normal>\n",
      "<Font '.SF Compact Display' (SFCompactDisplay-Light.otf) normal normal 400 normal>\n",
      "<Font '.SF Compact Display' (SFCompactDisplay-Bold.otf) normal normal 400 normal>\n",
      "<Font 'Apple Braille' (Apple Braille.ttf) normal normal 400 normal>\n",
      "<Font '.LastResort' (LastResort.otf) normal normal 400 normal>\n",
      "<Font '.SF NS Display Condensed' (SFNSDisplayCondensed-Regular.otf) normal normal 400 normal>\n",
      "<Font '.SF Compact Text' (SFCompactText-LightItalic.otf) normal normal 400 normal>\n"
     ]
    }
   ],
   "source": [
    "for i in font_list:\n",
    "#     if str(i).split(\"'\")[1] == \"Songti\":\n",
    "#         print(i)\n",
    "    print(i)"
   ]
  },
  {
   "cell_type": "code",
   "execution_count": 23,
   "metadata": {},
   "outputs": [
    {
     "ename": "SyntaxError",
     "evalue": "EOL while scanning string literal (<ipython-input-23-dc8904d49c6b>, line 1)",
     "output_type": "error",
     "traceback": [
      "\u001b[0;36m  File \u001b[0;32m\"<ipython-input-23-dc8904d49c6b>\"\u001b[0;36m, line \u001b[0;32m1\u001b[0m\n\u001b[0;31m    font_list = mpl.font_manager.FontProperties(fname=\"/Library/Fonts/)\u001b[0m\n\u001b[0m                                                                       ^\u001b[0m\n\u001b[0;31mSyntaxError\u001b[0m\u001b[0;31m:\u001b[0m EOL while scanning string literal\n"
     ]
    }
   ],
   "source": [
    "font_list = mpl.font_manager.FontProperties(fname=\"/Library/Fonts/)"
   ]
  },
  {
   "cell_type": "code",
   "execution_count": null,
   "metadata": {},
   "outputs": [],
   "source": []
  }
 ],
 "metadata": {
  "kernelspec": {
   "display_name": "Python 3",
   "language": "python",
   "name": "python3"
  },
  "language_info": {
   "codemirror_mode": {
    "name": "ipython",
    "version": 3
   },
   "file_extension": ".py",
   "mimetype": "text/x-python",
   "name": "python",
   "nbconvert_exporter": "python",
   "pygments_lexer": "ipython3",
   "version": "3.7.2"
  },
  "toc": {
   "base_numbering": 1,
   "nav_menu": {},
   "number_sections": true,
   "sideBar": true,
   "skip_h1_title": false,
   "title_cell": "Table of Contents",
   "title_sidebar": "Contents",
   "toc_cell": false,
   "toc_position": {},
   "toc_section_display": true,
   "toc_window_display": false
  }
 },
 "nbformat": 4,
 "nbformat_minor": 2
}
